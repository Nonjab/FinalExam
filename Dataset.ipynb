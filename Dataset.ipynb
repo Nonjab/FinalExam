{
 "cells": [
  {
   "cell_type": "code",
   "execution_count": 1,
   "id": "3064d627-af3d-4d92-b095-b5d1664ba267",
   "metadata": {},
   "outputs": [],
   "source": [
    "import pandas as pd\n",
    "import numpy as np\n",
    "from sklearn.model_selection import train_test_split\n",
    "from sklearn.preprocessing import StandardScaler\n"
   ]
  },
  {
   "cell_type": "code",
   "execution_count": 2,
   "id": "e37043a1-1654-4e72-bb88-932e67fe00cb",
   "metadata": {},
   "outputs": [
    {
     "name": "stdout",
     "output_type": "stream",
     "text": [
      "    Age  Gender Education Level          Job Title  Years of Experience  \\\n",
      "0  32.0    Male      Bachelor's  Software Engineer                  5.0   \n",
      "1  28.0  Female        Master's       Data Analyst                  3.0   \n",
      "2  45.0    Male             PhD     Senior Manager                 15.0   \n",
      "3  36.0  Female      Bachelor's    Sales Associate                  7.0   \n",
      "4  52.0    Male        Master's           Director                 20.0   \n",
      "\n",
      "     Salary  \n",
      "0   90000.0  \n",
      "1   65000.0  \n",
      "2  150000.0  \n",
      "3   60000.0  \n",
      "4  200000.0  \n"
     ]
    }
   ],
   "source": [
    "file_path = r\"C:\\Users\\Student\\Downloads\\Salary Data.csv\"\n",
    "data = pd.read_csv(file_path)\n",
    "\n",
    "print(data.head())\n"
   ]
  },
  {
   "cell_type": "code",
   "execution_count": 4,
   "id": "c62adeb8-178f-4026-a321-10d1e4e923fb",
   "metadata": {},
   "outputs": [
    {
     "data": {
      "text/plain": [
       "Index(['Age', 'Gender', 'Education Level', 'Job Title', 'Years of Experience',\n",
       "       'Salary'],\n",
       "      dtype='object')"
      ]
     },
     "execution_count": 4,
     "metadata": {},
     "output_type": "execute_result"
    }
   ],
   "source": [
    "data.columns"
   ]
  },
  {
   "cell_type": "code",
   "execution_count": 3,
   "id": "f23c64e9-7547-4c75-86dd-fbc8049029d1",
   "metadata": {},
   "outputs": [
    {
     "name": "stdout",
     "output_type": "stream",
     "text": [
      "Initial Data:\n",
      "    Age  Gender Education Level          Job Title  Years of Experience  \\\n",
      "0  32.0    Male      Bachelor's  Software Engineer                  5.0   \n",
      "1  28.0  Female        Master's       Data Analyst                  3.0   \n",
      "2  45.0    Male             PhD     Senior Manager                 15.0   \n",
      "3  36.0  Female      Bachelor's    Sales Associate                  7.0   \n",
      "4  52.0    Male        Master's           Director                 20.0   \n",
      "\n",
      "     Salary  \n",
      "0   90000.0  \n",
      "1   65000.0  \n",
      "2  150000.0  \n",
      "3   60000.0  \n",
      "4  200000.0  \n"
     ]
    }
   ],
   "source": [
    "print(\"Initial Data:\")\n",
    "print(data.head())"
   ]
  },
  {
   "cell_type": "code",
   "execution_count": 44,
   "id": "5af50961-9924-4acb-9ae8-8bdcd9ddb15d",
   "metadata": {},
   "outputs": [
    {
     "name": "stdout",
     "output_type": "stream",
     "text": [
      "\n",
      "Dataset Information:\n",
      "<class 'pandas.core.frame.DataFrame'>\n",
      "RangeIndex: 148654 entries, 0 to 148653\n",
      "Data columns (total 13 columns):\n",
      " #   Column            Non-Null Count   Dtype  \n",
      "---  ------            --------------   -----  \n",
      " 0   Id                148654 non-null  int64  \n",
      " 1   EmployeeName      148654 non-null  object \n",
      " 2   JobTitle          148654 non-null  object \n",
      " 3   BasePay           148045 non-null  float64\n",
      " 4   OvertimePay       148650 non-null  float64\n",
      " 5   OtherPay          148650 non-null  float64\n",
      " 6   Benefits          112491 non-null  float64\n",
      " 7   TotalPay          148654 non-null  float64\n",
      " 8   TotalPayBenefits  148654 non-null  float64\n",
      " 9   Year              148654 non-null  int64  \n",
      " 10  Notes             0 non-null       float64\n",
      " 11  Agency            148654 non-null  object \n",
      " 12  Status            0 non-null       float64\n",
      "dtypes: float64(8), int64(2), object(3)\n",
      "memory usage: 14.7+ MB\n",
      "None\n"
     ]
    }
   ],
   "source": [
    "print(\"\\nDataset Information:\")\n",
    "print(data.info())"
   ]
  },
  {
   "cell_type": "code",
   "execution_count": 45,
   "id": "e2078a9b-af56-4181-af66-476c801cce81",
   "metadata": {},
   "outputs": [
    {
     "name": "stdout",
     "output_type": "stream",
     "text": [
      "\n",
      "Missing Values:\n",
      "Id                       0\n",
      "EmployeeName             0\n",
      "JobTitle                 0\n",
      "BasePay                609\n",
      "OvertimePay              4\n",
      "OtherPay                 4\n",
      "Benefits             36163\n",
      "TotalPay                 0\n",
      "TotalPayBenefits         0\n",
      "Year                     0\n",
      "Notes               148654\n",
      "Agency                   0\n",
      "Status              148654\n",
      "dtype: int64\n"
     ]
    }
   ],
   "source": [
    "print(\"\\nMissing Values:\")\n",
    "print(data.isnull().sum())"
   ]
  },
  {
   "cell_type": "code",
   "execution_count": 5,
   "id": "f72ad3d7-62ed-486d-b4b4-571c747fc442",
   "metadata": {},
   "outputs": [
    {
     "name": "stderr",
     "output_type": "stream",
     "text": [
      "C:\\Users\\Student\\AppData\\Local\\Temp\\ipykernel_9796\\409150049.py:1: FutureWarning: A value is trying to be set on a copy of a DataFrame or Series through chained assignment using an inplace method.\n",
      "The behavior will change in pandas 3.0. This inplace method will never work because the intermediate object on which we are setting values always behaves as a copy.\n",
      "\n",
      "For example, when doing 'df[col].method(value, inplace=True)', try using 'df.method({col: value}, inplace=True)' or df[col] = df[col].method(value) instead, to perform the operation inplace on the original object.\n",
      "\n",
      "\n",
      "  data['Years of Experience'].fillna(data['Years of Experience'].median(), inplace=True)  # Using median for robustness\n",
      "C:\\Users\\Student\\AppData\\Local\\Temp\\ipykernel_9796\\409150049.py:2: FutureWarning: A value is trying to be set on a copy of a DataFrame or Series through chained assignment using an inplace method.\n",
      "The behavior will change in pandas 3.0. This inplace method will never work because the intermediate object on which we are setting values always behaves as a copy.\n",
      "\n",
      "For example, when doing 'df[col].method(value, inplace=True)', try using 'df.method({col: value}, inplace=True)' or df[col] = df[col].method(value) instead, to perform the operation inplace on the original object.\n",
      "\n",
      "\n",
      "  data['Salary'].fillna(data['Salary'].mean(), inplace=True)\n"
     ]
    }
   ],
   "source": [
    "data['Years of Experience'].fillna(data['Years of Experience'].median(), inplace=True)  # Using median for robustness\n",
    "data['Salary'].fillna(data['Salary'].mean(), inplace=True)\n"
   ]
  },
  {
   "cell_type": "code",
   "execution_count": 6,
   "id": "7d429f90-596d-441f-bef7-6b2025ea02a8",
   "metadata": {},
   "outputs": [
    {
     "name": "stderr",
     "output_type": "stream",
     "text": [
      "C:\\Users\\Student\\AppData\\Local\\Temp\\ipykernel_9796\\603496837.py:1: FutureWarning: A value is trying to be set on a copy of a DataFrame or Series through chained assignment using an inplace method.\n",
      "The behavior will change in pandas 3.0. This inplace method will never work because the intermediate object on which we are setting values always behaves as a copy.\n",
      "\n",
      "For example, when doing 'df[col].method(value, inplace=True)', try using 'df.method({col: value}, inplace=True)' or df[col] = df[col].method(value) instead, to perform the operation inplace on the original object.\n",
      "\n",
      "\n",
      "  data['Age'].fillna(data['Age'].mode()[0], inplace=True)  # Most frequent value\n",
      "C:\\Users\\Student\\AppData\\Local\\Temp\\ipykernel_9796\\603496837.py:2: FutureWarning: A value is trying to be set on a copy of a DataFrame or Series through chained assignment using an inplace method.\n",
      "The behavior will change in pandas 3.0. This inplace method will never work because the intermediate object on which we are setting values always behaves as a copy.\n",
      "\n",
      "For example, when doing 'df[col].method(value, inplace=True)', try using 'df.method({col: value}, inplace=True)' or df[col] = df[col].method(value) instead, to perform the operation inplace on the original object.\n",
      "\n",
      "\n",
      "  data['Gender'].fillna(data['Gender'].mode()[0], inplace=True)\n",
      "C:\\Users\\Student\\AppData\\Local\\Temp\\ipykernel_9796\\603496837.py:3: FutureWarning: A value is trying to be set on a copy of a DataFrame or Series through chained assignment using an inplace method.\n",
      "The behavior will change in pandas 3.0. This inplace method will never work because the intermediate object on which we are setting values always behaves as a copy.\n",
      "\n",
      "For example, when doing 'df[col].method(value, inplace=True)', try using 'df.method({col: value}, inplace=True)' or df[col] = df[col].method(value) instead, to perform the operation inplace on the original object.\n",
      "\n",
      "\n",
      "  data['Education Level'].fillna(data['Education Level'].mode()[0], inplace=True)\n",
      "C:\\Users\\Student\\AppData\\Local\\Temp\\ipykernel_9796\\603496837.py:4: FutureWarning: A value is trying to be set on a copy of a DataFrame or Series through chained assignment using an inplace method.\n",
      "The behavior will change in pandas 3.0. This inplace method will never work because the intermediate object on which we are setting values always behaves as a copy.\n",
      "\n",
      "For example, when doing 'df[col].method(value, inplace=True)', try using 'df.method({col: value}, inplace=True)' or df[col] = df[col].method(value) instead, to perform the operation inplace on the original object.\n",
      "\n",
      "\n",
      "  data['Job Title'].fillna(data['Job Title'].mode()[0], inplace=True)\n"
     ]
    }
   ],
   "source": [
    "data['Age'].fillna(data['Age'].mode()[0], inplace=True)  # Most frequent value\n",
    "data['Gender'].fillna(data['Gender'].mode()[0], inplace=True)\n",
    "data['Education Level'].fillna(data['Education Level'].mode()[0], inplace=True)\n",
    "data['Job Title'].fillna(data['Job Title'].mode()[0], inplace=True)\n"
   ]
  },
  {
   "cell_type": "code",
   "execution_count": 7,
   "id": "0b34bd9a-4f4c-411d-83f4-9240c1932ff1",
   "metadata": {},
   "outputs": [
    {
     "name": "stdout",
     "output_type": "stream",
     "text": [
      "\n",
      "Missing Values After Imputation:\n",
      "Age                    0\n",
      "Gender                 0\n",
      "Education Level        0\n",
      "Job Title              0\n",
      "Years of Experience    0\n",
      "Salary                 0\n",
      "dtype: int64\n",
      "\n",
      "Cleaned Dataset:\n",
      "    Age  Gender Education Level          Job Title  Years of Experience  \\\n",
      "0  32.0    Male      Bachelor's  Software Engineer                  5.0   \n",
      "1  28.0  Female        Master's       Data Analyst                  3.0   \n",
      "2  45.0    Male             PhD     Senior Manager                 15.0   \n",
      "3  36.0  Female      Bachelor's    Sales Associate                  7.0   \n",
      "4  52.0    Male        Master's           Director                 20.0   \n",
      "\n",
      "     Salary  \n",
      "0   90000.0  \n",
      "1   65000.0  \n",
      "2  150000.0  \n",
      "3   60000.0  \n",
      "4  200000.0  \n"
     ]
    }
   ],
   "source": [
    "print(\"\\nMissing Values After Imputation:\")\n",
    "print(data.isnull().sum())\n",
    "\n",
    "# Display the cleaned dataset (optional)\n",
    "print(\"\\nCleaned Dataset:\")\n",
    "print(data.head())"
   ]
  },
  {
   "cell_type": "code",
   "execution_count": 9,
   "id": "6b78fcec-f6df-4e3d-8657-98859773ce25",
   "metadata": {},
   "outputs": [],
   "source": [
    "data['TotalCompensation'] = data['Salary'] "
   ]
  },
  {
   "cell_type": "code",
   "execution_count": 10,
   "id": "3b9c2c58-1a36-41ae-ae1a-c0d96270ba9b",
   "metadata": {},
   "outputs": [],
   "source": [
    "data = pd.get_dummies(data, columns=['Job Title', 'Education Level'], drop_first=True)"
   ]
  },
  {
   "cell_type": "code",
   "execution_count": 12,
   "id": "5309c44d-3799-4b4d-b821-e2cd73bdfa77",
   "metadata": {},
   "outputs": [
    {
     "name": "stdout",
     "output_type": "stream",
     "text": [
      "\n",
      "Data after Scaling:\n",
      "    Age  Gender  Years of Experience    Salary  TotalCompensation  \\\n",
      "0  32.0    Male            -0.769440 -0.220147            90000.0   \n",
      "1  28.0  Female            -1.075664 -0.740475            65000.0   \n",
      "2  45.0    Male             0.761682  1.028639           150000.0   \n",
      "3  36.0  Female            -0.463215 -0.844540            60000.0   \n",
      "4  52.0    Male             1.527243  2.069294           200000.0   \n",
      "\n",
      "   Job Title_Accountant  Job Title_Administrative Assistant  \\\n",
      "0                 False                               False   \n",
      "1                 False                               False   \n",
      "2                 False                               False   \n",
      "3                 False                               False   \n",
      "4                 False                               False   \n",
      "\n",
      "   Job Title_Business Analyst  Job Title_Business Development Manager  \\\n",
      "0                       False                                   False   \n",
      "1                       False                                   False   \n",
      "2                       False                                   False   \n",
      "3                       False                                   False   \n",
      "4                       False                                   False   \n",
      "\n",
      "   Job Title_Business Intelligence Analyst  ...  \\\n",
      "0                                    False  ...   \n",
      "1                                    False  ...   \n",
      "2                                    False  ...   \n",
      "3                                    False  ...   \n",
      "4                                    False  ...   \n",
      "\n",
      "   Job Title_Technical Support Specialist  Job Title_Technical Writer  \\\n",
      "0                                   False                       False   \n",
      "1                                   False                       False   \n",
      "2                                   False                       False   \n",
      "3                                   False                       False   \n",
      "4                                   False                       False   \n",
      "\n",
      "   Job Title_Training Specialist  Job Title_UX Designer  \\\n",
      "0                          False                  False   \n",
      "1                          False                  False   \n",
      "2                          False                  False   \n",
      "3                          False                  False   \n",
      "4                          False                  False   \n",
      "\n",
      "   Job Title_UX Researcher  Job Title_VP of Finance  \\\n",
      "0                    False                    False   \n",
      "1                    False                    False   \n",
      "2                    False                    False   \n",
      "3                    False                    False   \n",
      "4                    False                    False   \n",
      "\n",
      "   Job Title_VP of Operations  Job Title_Web Developer  \\\n",
      "0                       False                    False   \n",
      "1                       False                    False   \n",
      "2                       False                    False   \n",
      "3                       False                    False   \n",
      "4                       False                    False   \n",
      "\n",
      "   Education Level_Master's  Education Level_PhD  \n",
      "0                     False                False  \n",
      "1                      True                False  \n",
      "2                     False                 True  \n",
      "3                     False                False  \n",
      "4                      True                False  \n",
      "\n",
      "[5 rows x 180 columns]\n"
     ]
    }
   ],
   "source": [
    "\n",
    "numerical_cols = ['Years of Experience', 'Salary']  # Adjust this based on your dataset\n",
    "scaler = StandardScaler()\n",
    "\n",
    "data[numerical_cols] = scaler.fit_transform(data[numerical_cols])\n",
    "print(\"\\nData after Scaling:\")\n",
    "print(data.head())"
   ]
  },
  {
   "cell_type": "code",
   "execution_count": 14,
   "id": "1b01f662-9537-4eec-ad3e-3822f46c403c",
   "metadata": {},
   "outputs": [],
   "source": [
    "X = data.drop(['TotalCompensation'], axis=1)\n",
    "y = data['TotalCompensation']"
   ]
  },
  {
   "cell_type": "code",
   "execution_count": 15,
   "id": "ebb87657-b053-471a-ae8f-8f922bc36f9d",
   "metadata": {},
   "outputs": [],
   "source": [
    "X_train, X_test, y_train, y_test = train_test_split(X, y, test_size=0.2, random_state=42)\n"
   ]
  },
  {
   "cell_type": "code",
   "execution_count": 16,
   "id": "ea777c0f-3826-487d-9d2a-089b1b174477",
   "metadata": {},
   "outputs": [
    {
     "name": "stdout",
     "output_type": "stream",
     "text": [
      "\n",
      "Shapes of the Train and Test Sets:\n",
      "X_train: (300, 179)\n",
      "X_test: (75, 179)\n",
      "y_train: (300,)\n",
      "y_test: (75,)\n"
     ]
    }
   ],
   "source": [
    "print(\"\\nShapes of the Train and Test Sets:\")\n",
    "print(\"X_train:\", X_train.shape)\n",
    "print(\"X_test:\", X_test.shape)\n",
    "print(\"y_train:\", y_train.shape)\n",
    "print(\"y_test:\", y_test.shape)\n"
   ]
  },
  {
   "cell_type": "code",
   "execution_count": 41,
   "id": "97b13dec-9bbd-4c26-92c1-606c19a4a5f5",
   "metadata": {},
   "outputs": [
    {
     "name": "stdout",
     "output_type": "stream",
     "text": [
      "\n",
      "Processed Data Summary:\n",
      "            BasePay   OvertimePay      OtherPay      Benefits      TotalPay  \\\n",
      "count  1.486540e+05  1.486540e+05  1.486540e+05  1.486540e+05  1.486540e+05   \n",
      "mean  -2.600234e-17  9.865595e-17  3.059099e-17  9.789118e-17 -2.508461e-16   \n",
      "std    1.000003e+00  1.000003e+00  1.000003e+00  1.000003e+00  1.000003e+00   \n",
      "min   -1.558023e+00 -4.422897e-01 -1.329039e+00 -1.869018e+00 -1.492304e+00   \n",
      "25%   -7.610324e-01 -4.422889e-01 -4.528992e-01 -1.989493e-01 -7.640884e-01   \n",
      "50%   -2.889764e-02 -4.422889e-01 -3.521913e-01  5.430481e-16 -6.615046e-02   \n",
      "75%    6.626619e-01 -3.556711e-02  7.287813e-02  6.315014e-01  6.150586e-01   \n",
      "max    5.927097e+00  2.095878e+01  4.921953e+01  5.341156e+00  9.755700e+00   \n",
      "\n",
      "       TotalPayBenefits           Year  Status  TotalCompensation  \n",
      "count      1.486540e+05  148654.000000     0.0       1.486540e+05  \n",
      "mean       1.269526e-16    2012.522643     NaN       1.269526e-16  \n",
      "std        1.000003e+00       1.117538     NaN       1.000003e+00  \n",
      "min       -1.501922e+00    2011.000000     NaN      -1.501922e+00  \n",
      "25%       -7.903214e-01    2012.000000     NaN      -7.903214e-01  \n",
      "50%       -2.051914e-02    2013.000000     NaN      -2.051914e-02  \n",
      "75%        6.240137e-01    2014.000000     NaN       6.240137e-01  \n",
      "max        7.547027e+00    2014.000000     NaN       7.547027e+00  \n"
     ]
    }
   ],
   "source": [
    "print(\"\\nProcessed Data Summary:\")\n",
    "print(data.describe())"
   ]
  },
  {
   "cell_type": "markdown",
   "id": "a7ffd860-1c4b-4fab-a8d4-3ba917146253",
   "metadata": {},
   "source": [
    "# Relevance of the Salary Dataset to the Two-Pot System\n",
    "\n",
    "The Salary dataset is highly relevant to the Two-Pot system, which aims to balance financial security for employees and promote sustainable retirement savings. This relevance can be understood through several key aspects:\n",
    "\n",
    "## 1. Understanding Financial Security\n",
    "\n",
    "The dataset contains vital information about employee salaries, which is a significant factor in determining financial security. By analyzing salary trends, organizations can identify whether employees earn enough to cover their basic needs and contribute to retirement savings. This is crucial for assessing whether the Two-Pot system can effectively support the financial well-being of employees.\n",
    "\n",
    "## 2. Insights into Salary Disparities\n",
    "\n",
    "By examining factors such as age, gender, education level, and job title, the dataset can help identify potential salary disparities within the workforce. These insights are essential for the Two-Pot system's objective to promote equity in compensation. Addressing disparities can lead to more fair and equitable financial conditions for all employees, thereby enhancing their ability to save for retirement.\n",
    "\n",
    "## 3. Evaluating Career Advancement and Savings Potential\n",
    "\n",
    "The dataset includes information on years of experience, which can impact salary levels. Understanding how experience correlates with compensation can inform policies that encourage employees to invest in their professional development. The Two-Pot system encourages employees to prioritize their savings, and knowing how their earnings grow with experience can motivate them to contribute more towards their retirement funds.\n",
    "\n",
    "## 4. Informing Policy Decisions\n",
    "\n",
    "Data-driven insights from the Salary dataset can assist policymakers in making informed decisions regarding salary structures, benefits, and incentives that align with the Two-Pot system’s goals. By understanding how various demographic factors influence earnings, policymakers can implement strategies that support better savings behaviors among employees.\n",
    "\n",
    "## 5. Enhancing Employee Engagement and Satisfaction\n",
    "\n",
    "When employees feel they are fairly compensated based on their qualifications and contributions, it can lead to increased job satisfaction and engagement. This positive sentiment can translate into better financial decisions, including increased contributions to retirement savings. The Two-Pot system seeks to enhance financial literacy and encourage proactive savings behaviors among employees, and fair compensation is a foundational aspect of this effort.\n",
    "\n",
    "## Conclusion\n",
    "\n",
    "In summary, the Salary dataset serves as a crucial resource for evaluating the effectiveness of the Two-Pot system in promoting financial security and equity among employees. By leveraging the insights drawn from this dataset, organizations can work towards creating a more equitable compensation structure that aligns with the objectives of the Two-Pot system, ultimately leading to a more financially secure workforce.\n"
   ]
  }
 ],
 "metadata": {
  "kernelspec": {
   "display_name": "Python 3 (ipykernel)",
   "language": "python",
   "name": "python3"
  },
  "language_info": {
   "codemirror_mode": {
    "name": "ipython",
    "version": 3
   },
   "file_extension": ".py",
   "mimetype": "text/x-python",
   "name": "python",
   "nbconvert_exporter": "python",
   "pygments_lexer": "ipython3",
   "version": "3.12.4"
  }
 },
 "nbformat": 4,
 "nbformat_minor": 5
}
